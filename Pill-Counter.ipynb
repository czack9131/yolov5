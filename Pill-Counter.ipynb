{
 "cells": [
  {
   "cell_type": "markdown",
   "metadata": {},
   "source": [
    "Init workspace\n"
   ]
  },
  {
   "cell_type": "code",
   "execution_count": 1,
   "metadata": {},
   "outputs": [],
   "source": [
    "!source .venv/bin/activate"
   ]
  },
  {
   "cell_type": "code",
   "execution_count": null,
   "metadata": {},
   "outputs": [],
   "source": [
    "%pip install -qr requirements.txt clearml  # install\n",
    "\n",
    "import torch\n",
    "import utils\n",
    "\n",
    "display = utils.notebook_init()  # checks"
   ]
  },
  {
   "cell_type": "markdown",
   "metadata": {},
   "source": [
    "Clone Dataset\n"
   ]
  },
  {
   "cell_type": "code",
   "execution_count": null,
   "metadata": {},
   "outputs": [],
   "source": [
    "!clearml-data get \\\n",
    "--id 63c8e9373cd44d278ebfe693a575387f \\\n",
    "--copy ../datasets/yolo \\\n",
    "--overwrite"
   ]
  },
  {
   "cell_type": "markdown",
   "metadata": {},
   "source": [
    "Train\n"
   ]
  },
  {
   "cell_type": "code",
   "execution_count": null,
   "metadata": {},
   "outputs": [],
   "source": [
    "!python train.py \\\n",
    "--project YOLOv5-Pill-Counter/test \\\n",
    "--name train_bs32_ep75 \\\n",
    "--weights \"\" \\\n",
    "--cfg yolov5s.yaml \\\n",
    "--data yolo.yaml \\\n",
    "--batch-size 32 \\\n",
    "--epochs 75 \\\n",
    "--img 736 \\\n",
    "--cache"
   ]
  },
  {
   "cell_type": "code",
   "execution_count": null,
   "metadata": {},
   "outputs": [],
   "source": [
    "!python train.py \\\n",
    "--project YOLOv5-Pill-Counter/Evolution \\\n",
    "--name train_bs32_ep30 \\\n",
    "--weights \"\" \\\n",
    "--cfg yolov5s.yaml \\\n",
    "--data yolo.yaml \\\n",
    "--batch-size 32 \\\n",
    "--epochs 30 \\\n",
    "--img 736 \\\n",
    "--cache \\\n",
    "--evolve \\\n",
    "--resume"
   ]
  },
  {
   "cell_type": "markdown",
   "metadata": {},
   "source": [
    "Export\n"
   ]
  },
  {
   "cell_type": "code",
   "execution_count": null,
   "metadata": {},
   "outputs": [],
   "source": [
    "!python export.py \\\n",
    "--data yolo.yaml \\\n",
    "--weights YOLOv5-Pill-Counter/test/train_100/weights/best.pt \\\n",
    "--include tfjs \\\n",
    "--imgsz 736"
   ]
  },
  {
   "cell_type": "code",
   "execution_count": null,
   "metadata": {},
   "outputs": [],
   "source": [
    "# YOLOv5 TensorFlow.js export\n",
    "import re\n",
    "import subprocess\n",
    "from pathlib import Path\n",
    "\n",
    "weights_file = Path(\n",
    "    \"/home/czack913/Code/yolov5/YOLOv5-Pill-Counter/test/train_50/weights/best.pt\"\n",
    ")\n",
    "\n",
    "f = str(weights_file).replace(\".pt\", \"_web_model\")  # js dir\n",
    "f_pb = weights_file.with_suffix(\".pb\")  # *.pb path\n",
    "f_json = f\"{f}/model.json\"  # *.json path\n",
    "args = [\n",
    "    \"tensorflowjs_converter\",\n",
    "    \"--input_format=tf_frozen_model\",\n",
    "    \"--output_format=tfjs_graph_model\",\n",
    "    \"--weight_shard_size_bytes=60000000\",\n",
    "    \"--output_node_names=Identity,Identity_1,Identity_2,Identity_3\",\n",
    "    str(f_pb),\n",
    "    f,\n",
    "]\n",
    "subprocess.run([arg for arg in args if arg], check=True)\n",
    "\n",
    "json = Path(f_json).read_text()\n",
    "with open(f_json, \"w\") as j:  # sort JSON Identity_* in ascending order\n",
    "    subst = re.sub(\n",
    "        r'{\"outputs\": {\"Identity.?.?\": {\"name\": \"Identity.?.?\"}, '\n",
    "        r'\"Identity.?.?\": {\"name\": \"Identity.?.?\"}, '\n",
    "        r'\"Identity.?.?\": {\"name\": \"Identity.?.?\"}, '\n",
    "        r'\"Identity.?.?\": {\"name\": \"Identity.?.?\"}}}',\n",
    "        r'{\"outputs\": {\"Identity\": {\"name\": \"Identity\"}, '\n",
    "        r'\"Identity_1\": {\"name\": \"Identity_1\"}, '\n",
    "        r'\"Identity_2\": {\"name\": \"Identity_2\"}, '\n",
    "        r'\"Identity_3\": {\"name\": \"Identity_3\"}}}',\n",
    "        json,\n",
    "    )\n",
    "    j.write(subst)"
   ]
  },
  {
   "cell_type": "markdown",
   "metadata": {},
   "source": [
    "Validate\n"
   ]
  },
  {
   "cell_type": "code",
   "execution_count": null,
   "metadata": {},
   "outputs": [],
   "source": [
    "!python val.py \\\n",
    "--weights YOLOv5-Pill-Counter/test/train_100/weights/best.pt \\\n",
    "--data 640x640.yaml \\\n",
    "--img 736"
   ]
  },
  {
   "cell_type": "markdown",
   "metadata": {},
   "source": [
    "Detect\n"
   ]
  },
  {
   "cell_type": "code",
   "execution_count": null,
   "metadata": {},
   "outputs": [],
   "source": [
    "!python detect.py \\\n",
    "--weights /home/czack913/Code/yolov5/YOLOv5-Pill-Counter/test/train_100/weights/best.pt \\\n",
    "--source /home/czack913/Code/datasets/resized/padded/images/test/ \\\n",
    "--img 736"
   ]
  },
  {
   "cell_type": "markdown",
   "metadata": {},
   "source": [
    "Pad"
   ]
  },
  {
   "cell_type": "code",
   "execution_count": 3,
   "metadata": {},
   "outputs": [],
   "source": [
    "from PIL import Image\n",
    "import os\n",
    "\n",
    "IN_DIR = \"../datasets/resized/original\"\n",
    "OUT_DIR = \"../datasets/resized/padded/images\"\n",
    "\n",
    "os.makedirs(IN_DIR, exist_ok=True)\n",
    "os.makedirs(OUT_DIR, exist_ok=True)\n",
    "\n",
    "TARGET_SIZE = (736, 736)\n",
    "\n",
    "counter = 0\n",
    "max_counter = 10\n",
    "\n",
    "for filename in os.listdir(IN_DIR):\n",
    "    if filename.lower().endswith((\".jpg\", \".jpeg\")) and counter < max_counter:\n",
    "        counter += 1\n",
    "\n",
    "        input_path = os.path.join(IN_DIR, filename)\n",
    "        output_path = os.path.join(OUT_DIR, filename)\n",
    "\n",
    "        image = Image.open(input_path)\n",
    "        original_size = image.size\n",
    "        # padding_width = max(0, TARGET_SIZE[0] - original_size[0])\n",
    "        # padding_height = max(0, TARGET_SIZE[1] - original_size[1])\n",
    "        # anchor_position = (padding_width // 2, padding_height // 2)\n",
    "        padded_image = Image.new(\"RGB\", TARGET_SIZE, color=\"white\")\n",
    "        padded_image.paste(image, (0, 0))\n",
    "        padded_image.save(output_path)"
   ]
  },
  {
   "cell_type": "markdown",
   "metadata": {},
   "source": [
    "Reformat Annotations"
   ]
  },
  {
   "cell_type": "code",
   "execution_count": null,
   "metadata": {},
   "outputs": [],
   "source": [
    "import os\n",
    "\n",
    "ORIGINAL_SIZE = (736, 736)\n",
    "TARGET_SIZE = (640, 640)\n",
    "\n",
    "FACTOR0 = TARGET_SIZE[0] / ORIGINAL_SIZE[0]\n",
    "FACTOR1 = TARGET_SIZE[1] / ORIGINAL_SIZE[1]\n",
    "\n",
    "INPUT_DIR = \"/home/czack913/Code/datasets/resized/temp/in\"\n",
    "OUTPUT_DIR = \"/home/czack913/Code/datasets/resized/temp/out\"\n",
    "\n",
    "os.makedirs(INPUT_DIR, exist_ok=True)\n",
    "os.makedirs(OUTPUT_DIR, exist_ok=True)\n",
    "\n",
    "counter = 0\n",
    "MAX_COUNTER = 15\n",
    "\n",
    "for filename in os.listdir(INPUT_DIR):\n",
    "    if filename.lower().endswith(\".txt\") and counter < MAX_COUNTER:\n",
    "        counter += 1\n",
    "\n",
    "        input_path = os.path.join(INPUT_DIR, filename)\n",
    "        output_path = os.path.join(OUTPUT_DIR, filename)\n",
    "\n",
    "        with open(input_path, \"r\") as input_file:\n",
    "            lines = input_file.readlines()\n",
    "\n",
    "        with open(output_path, \"w\") as output_file:\n",
    "            for line in lines:\n",
    "                if not line.strip():\n",
    "                    continue\n",
    "\n",
    "                values = line.split()\n",
    "\n",
    "                # Check if the line has the expected number of values (5)\n",
    "                if len(values) != 5:\n",
    "                    print(f\"Skipping line: {line}\")\n",
    "                    continue\n",
    "\n",
    "                # Extract values\n",
    "                class_label, x_center, y_center, width, height = map(float, values)\n",
    "\n",
    "                # Scale bounding box coordinates\n",
    "                x_center *= FACTOR0\n",
    "                y_center *= FACTOR1\n",
    "                width *= FACTOR0\n",
    "                height *= FACTOR1\n",
    "\n",
    "                # Write the scaled annotation to the output file\n",
    "                output_file.write(\n",
    "                    f\"{int(class_label)} {x_center} {y_center} {width} {height}\\n\"\n",
    "                )"
   ]
  },
  {
   "cell_type": "markdown",
   "metadata": {},
   "source": [
    "Reformat File Names"
   ]
  },
  {
   "cell_type": "code",
   "execution_count": 9,
   "metadata": {},
   "outputs": [],
   "source": [
    "import os\n",
    "import shutil\n",
    "\n",
    "INPUT_DIR = \"/home/czack913/Code/datasets/resized/temp/in\"\n",
    "OUTPUT_DIR = \"/home/czack913/Code/datasets/resized/temp/out\"\n",
    "\n",
    "os.makedirs(INPUT_DIR, exist_ok=True)\n",
    "os.makedirs(OUTPUT_DIR, exist_ok=True)\n",
    "\n",
    "counter = 0\n",
    "MAX_COUNTER = 15\n",
    "\n",
    "for filename in os.listdir(INPUT_DIR):\n",
    "    if filename.lower().endswith((\".jpg\", \".jpeg\")) and counter < MAX_COUNTER:\n",
    "        counter += 1\n",
    "\n",
    "        input_path = os.path.join(INPUT_DIR, filename)\n",
    "\n",
    "        ts_part = filename.split(\"_\")[1]\n",
    "        part = ts_part[:14]\n",
    "\n",
    "        output_path = os.path.join(OUTPUT_DIR, f\"images_{part}.jpeg\")\n",
    "\n",
    "        shutil.copy(input_path, output_path)"
   ]
  },
  {
   "cell_type": "code",
   "execution_count": 11,
   "metadata": {},
   "outputs": [
    {
     "name": "stdout",
     "output_type": "stream",
     "text": [
      "images_20230429162856.jpeg: 720x720\n",
      "{'720x720': True}\n"
     ]
    }
   ],
   "source": [
    "from PIL import Image\n",
    "import os\n",
    "\n",
    "INPUT_DIR = \"/home/czack913/Code/datasets/resized/original\"\n",
    "\n",
    "os.makedirs(INPUT_DIR, exist_ok=True)\n",
    "\n",
    "unique_sizes = {}\n",
    "\n",
    "for filename in os.listdir(INPUT_DIR):\n",
    "    if filename.lower().endswith((\".jpg\", \".jpeg\")):\n",
    "        file_path = os.path.join(INPUT_DIR, filename)\n",
    "\n",
    "        try:\n",
    "            # Open the image and get its size\n",
    "            with Image.open(file_path) as img:\n",
    "                width, height = img.size\n",
    "                size_key = f\"{width}x{height}\"\n",
    "\n",
    "                # Print size if it's unique\n",
    "                if size_key not in unique_sizes:\n",
    "                    print(f\"{filename}: {size_key}\")\n",
    "                    unique_sizes[size_key] = True\n",
    "        except Exception as e:\n",
    "            print(f\"Error processing {filename}: {str(e)}\")\n",
    "\n",
    "print(unique_sizes)"
   ]
  }
 ],
 "metadata": {
  "kernelspec": {
   "display_name": ".venv",
   "language": "python",
   "name": "python3"
  },
  "language_info": {
   "codemirror_mode": {
    "name": "ipython",
    "version": 3
   },
   "file_extension": ".py",
   "mimetype": "text/x-python",
   "name": "python",
   "nbconvert_exporter": "python",
   "pygments_lexer": "ipython3",
   "version": "3.10.12"
  }
 },
 "nbformat": 4,
 "nbformat_minor": 2
}
