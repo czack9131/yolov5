{
 "cells": [
  {
   "cell_type": "markdown",
   "metadata": {},
   "source": [
    "Init workspace\n"
   ]
  },
  {
   "cell_type": "code",
   "execution_count": 1,
   "metadata": {},
   "outputs": [],
   "source": [
    "!source .venv/bin/activate"
   ]
  },
  {
   "cell_type": "code",
   "execution_count": null,
   "metadata": {},
   "outputs": [],
   "source": [
    "%pip install -qr requirements.txt clearml  # install\n",
    "\n",
    "import torch\n",
    "import utils\n",
    "\n",
    "display = utils.notebook_init()  # checks"
   ]
  },
  {
   "cell_type": "markdown",
   "metadata": {},
   "source": [
    "Clone Dataset\n"
   ]
  },
  {
   "cell_type": "code",
   "execution_count": null,
   "metadata": {},
   "outputs": [],
   "source": [
    "!clearml-data get \\\n",
    "--id 63c8e9373cd44d278ebfe693a575387f \\\n",
    "--copy ../datasets/yolo \\\n",
    "--overwrite"
   ]
  },
  {
   "cell_type": "markdown",
   "metadata": {},
   "source": [
    "Train\n"
   ]
  },
  {
   "cell_type": "code",
   "execution_count": null,
   "metadata": {},
   "outputs": [],
   "source": [
    "!python train.py \\\n",
    "--project YOLOv5-Pill-Counter/test \\\n",
    "--name train_bs32_ep75 \\\n",
    "--weights \"\" \\\n",
    "--cfg yolov5s.yaml \\\n",
    "--data yolo.yaml \\\n",
    "--batch-size 32 \\\n",
    "--epochs 75 \\\n",
    "--img 736 \\\n",
    "--cache"
   ]
  },
  {
   "cell_type": "code",
   "execution_count": null,
   "metadata": {},
   "outputs": [],
   "source": [
    "!python train.py \\\n",
    "--project YOLOv5-Pill-Counter/Evolution \\\n",
    "--name train_bs32_ep30 \\\n",
    "--weights \"\" \\\n",
    "--cfg yolov5s.yaml \\\n",
    "--data yolo.yaml \\\n",
    "--batch-size 32 \\\n",
    "--epochs 30 \\\n",
    "--img 736 \\\n",
    "--cache \\\n",
    "--evolve \\\n",
    "--resume"
   ]
  },
  {
   "cell_type": "markdown",
   "metadata": {},
   "source": [
    "Export\n"
   ]
  },
  {
   "cell_type": "code",
   "execution_count": null,
   "metadata": {},
   "outputs": [],
   "source": [
    "!python export.py \\\n",
    "--data yolo.yaml \\\n",
    "--weights YOLOv5-Pill-Counter/test/train_50/weights/best.pt \\\n",
    "--include tfjs \\\n",
    "--imgsz 736"
   ]
  },
  {
   "cell_type": "code",
   "execution_count": 8,
   "metadata": {},
   "outputs": [
    {
     "name": "stderr",
     "output_type": "stream",
     "text": [
      "2024-01-26 22:09:18.361761: E external/local_xla/xla/stream_executor/cuda/cuda_dnn.cc:9261] Unable to register cuDNN factory: Attempting to register factory for plugin cuDNN when one has already been registered\n",
      "2024-01-26 22:09:18.361872: E external/local_xla/xla/stream_executor/cuda/cuda_fft.cc:607] Unable to register cuFFT factory: Attempting to register factory for plugin cuFFT when one has already been registered\n",
      "2024-01-26 22:09:18.363432: E external/local_xla/xla/stream_executor/cuda/cuda_blas.cc:1515] Unable to register cuBLAS factory: Attempting to register factory for plugin cuBLAS when one has already been registered\n",
      "2024-01-26 22:09:18.372684: I tensorflow/core/platform/cpu_feature_guard.cc:182] This TensorFlow binary is optimized to use available CPU instructions in performance-critical operations.\n",
      "To enable the following instructions: AVX2 FMA, in other operations, rebuild TensorFlow with the appropriate compiler flags.\n",
      "2024-01-26 22:09:19.039029: W tensorflow/compiler/tf2tensorrt/utils/py_utils.cc:38] TF-TRT Warning: Could not find TensorRT\n"
     ]
    }
   ],
   "source": [
    "# YOLOv5 TensorFlow.js export\n",
    "import re\n",
    "import subprocess\n",
    "from pathlib import Path\n",
    "\n",
    "weights_file = Path(\n",
    "    \"/home/czack913/Code/yolov5/YOLOv5-Pill-Counter/test/train_50/weights/best.pt\"\n",
    ")\n",
    "\n",
    "f = str(weights_file).replace(\".pt\", \"_web_model\")  # js dir\n",
    "f_pb = weights_file.with_suffix(\".pb\")  # *.pb path\n",
    "f_json = f\"{f}/model.json\"  # *.json path\n",
    "args = [\n",
    "    \"tensorflowjs_converter\",\n",
    "    \"--input_format=tf_frozen_model\",\n",
    "    \"--output_format=tfjs_graph_model\",\n",
    "    \"--weight_shard_size_bytes=60000000\",\n",
    "    \"--output_node_names=Identity,Identity_1,Identity_2,Identity_3\",\n",
    "    str(f_pb),\n",
    "    f,\n",
    "]\n",
    "subprocess.run([arg for arg in args if arg], check=True)\n",
    "\n",
    "json = Path(f_json).read_text()\n",
    "with open(f_json, \"w\") as j:  # sort JSON Identity_* in ascending order\n",
    "    subst = re.sub(\n",
    "        r'{\"outputs\": {\"Identity.?.?\": {\"name\": \"Identity.?.?\"}, '\n",
    "        r'\"Identity.?.?\": {\"name\": \"Identity.?.?\"}, '\n",
    "        r'\"Identity.?.?\": {\"name\": \"Identity.?.?\"}, '\n",
    "        r'\"Identity.?.?\": {\"name\": \"Identity.?.?\"}}}',\n",
    "        r'{\"outputs\": {\"Identity\": {\"name\": \"Identity\"}, '\n",
    "        r'\"Identity_1\": {\"name\": \"Identity_1\"}, '\n",
    "        r'\"Identity_2\": {\"name\": \"Identity_2\"}, '\n",
    "        r'\"Identity_3\": {\"name\": \"Identity_3\"}}}',\n",
    "        json,\n",
    "    )\n",
    "    j.write(subst)"
   ]
  },
  {
   "cell_type": "markdown",
   "metadata": {},
   "source": [
    "Validate\n"
   ]
  },
  {
   "cell_type": "code",
   "execution_count": null,
   "metadata": {},
   "outputs": [],
   "source": [
    "!python val.py \\\n",
    "--weights runs/train/exp2/weights/best.pt \\\n",
    "--data yolo.yaml \\\n",
    "--img 736"
   ]
  },
  {
   "cell_type": "markdown",
   "metadata": {},
   "source": [
    "Detect\n"
   ]
  },
  {
   "cell_type": "code",
   "execution_count": null,
   "metadata": {},
   "outputs": [],
   "source": [
    "!python detect.py \\\n",
    "--weights runs/train/exp2/weights/best.pt \\\n",
    "--source yolo.yaml \\\n",
    "--img 736"
   ]
  }
 ],
 "metadata": {
  "kernelspec": {
   "display_name": ".venv",
   "language": "python",
   "name": "python3"
  },
  "language_info": {
   "codemirror_mode": {
    "name": "ipython",
    "version": 3
   },
   "file_extension": ".py",
   "mimetype": "text/x-python",
   "name": "python",
   "nbconvert_exporter": "python",
   "pygments_lexer": "ipython3",
   "version": "3.10.12"
  }
 },
 "nbformat": 4,
 "nbformat_minor": 2
}
