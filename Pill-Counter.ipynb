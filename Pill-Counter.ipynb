{
 "cells": [
  {
   "cell_type": "markdown",
   "metadata": {},
   "source": [
    "Init workspace\n"
   ]
  },
  {
   "cell_type": "code",
   "execution_count": 2,
   "metadata": {},
   "outputs": [],
   "source": [
    "!source .venv/bin/activate"
   ]
  },
  {
   "cell_type": "code",
   "execution_count": 4,
   "metadata": {},
   "outputs": [
    {
     "name": "stderr",
     "output_type": "stream",
     "text": [
      "YOLOv5 🚀 v7.0-279-gae7a799 Python-3.10.12 torch-2.1.2+cu121 CUDA:0 (NVIDIA GeForce GTX 1080 Ti, 11264MiB)\n"
     ]
    },
    {
     "name": "stdout",
     "output_type": "stream",
     "text": [
      "Setup complete ✅ (12 CPUs, 15.6 GB RAM, 119.3/1006.9 GB disk)\n"
     ]
    }
   ],
   "source": [
    "%pip install -qr requirements.txt clearml  # install\n",
    "\n",
    "import torch\n",
    "import utils\n",
    "\n",
    "display = utils.notebook_init()  # checks"
   ]
  },
  {
   "cell_type": "markdown",
   "metadata": {},
   "source": [
    "Clone Dataset\n"
   ]
  },
  {
   "cell_type": "code",
   "execution_count": null,
   "metadata": {},
   "outputs": [],
   "source": [
    "!clearml-data get \\\n",
    "--id 63c8e9373cd44d278ebfe693a575387f \\\n",
    "--copy ../datasets/yolo \\\n",
    "--overwrite"
   ]
  },
  {
   "cell_type": "markdown",
   "metadata": {},
   "source": [
    "Train\n"
   ]
  },
  {
   "cell_type": "code",
   "execution_count": null,
   "metadata": {},
   "outputs": [],
   "source": [
    "!python train.py \\\n",
    "--project YOLOv5-Pill-Counter/test \\\n",
    "--name train_bs32_ep75 \\\n",
    "--weights \"\" \\\n",
    "--cfg yolov5s.yaml \\\n",
    "--data yolo.yaml \\\n",
    "--batch-size 32 \\\n",
    "--epochs 75 \\\n",
    "--img 736 \\\n",
    "--cache"
   ]
  },
  {
   "cell_type": "code",
   "execution_count": null,
   "metadata": {},
   "outputs": [],
   "source": [
    "!python train.py \\\n",
    "--project YOLOv5-Pill-Counter/Evolution \\\n",
    "--name train_bs32_ep30 \\\n",
    "--weights \"\" \\\n",
    "--cfg yolov5s.yaml \\\n",
    "--data yolo.yaml \\\n",
    "--batch-size 32 \\\n",
    "--epochs 30 \\\n",
    "--img 736 \\\n",
    "--cache \\\n",
    "--evolve \\\n",
    "--resume"
   ]
  },
  {
   "cell_type": "markdown",
   "metadata": {},
   "source": [
    "Export\n"
   ]
  },
  {
   "cell_type": "code",
   "execution_count": 3,
   "metadata": {},
   "outputs": [
    {
     "name": "stdout",
     "output_type": "stream",
     "text": [
      "/home/czack913/Code/yolov5/export.py:59: DeprecationWarning: \n",
      "Pyarrow will become a required dependency of pandas in the next major release of pandas (pandas 3.0),\n",
      "(to allow more performant data types, such as the Arrow string type, and better interoperability with other libraries)\n",
      "but was not found to be installed on your system.\n",
      "If this would cause problems for you,\n",
      "please provide us feedback at https://github.com/pandas-dev/pandas/issues/54466\n",
      "        \n",
      "  import pandas as pd\n",
      "\u001b[34m\u001b[1mexport: \u001b[0mdata=data/coco128.yaml, weights=['YOLOv5-Pill-Counter/test/train_50/weights/best.pt'], imgsz=[736], batch_size=1, device=cpu, half=False, inplace=False, keras=False, optimize=False, int8=False, per_tensor=False, dynamic=False, simplify=False, opset=17, verbose=False, workspace=4, nms=False, agnostic_nms=False, topk_per_class=100, topk_all=100, iou_thres=0.45, conf_thres=0.25, include=['tfjs']\n",
      "YOLOv5 🚀 v7.0-279-gae7a799 Python-3.10.12 torch-2.1.2+cu121 CPU\n",
      "\n",
      "Fusing layers... \n",
      "YOLOv5s summary: 157 layers, 7012822 parameters, 0 gradients, 15.8 GFLOPs\n",
      "\n",
      "\u001b[34m\u001b[1mPyTorch:\u001b[0m starting from YOLOv5-Pill-Counter/test/train_50/weights/best.pt with output shape (1, 33327, 6) (54.2 MB)\n",
      "2024-01-22 17:50:31.496652: E external/local_xla/xla/stream_executor/cuda/cuda_dnn.cc:9261] Unable to register cuDNN factory: Attempting to register factory for plugin cuDNN when one has already been registered\n",
      "2024-01-22 17:50:31.496723: E external/local_xla/xla/stream_executor/cuda/cuda_fft.cc:607] Unable to register cuFFT factory: Attempting to register factory for plugin cuFFT when one has already been registered\n",
      "2024-01-22 17:50:31.497563: E external/local_xla/xla/stream_executor/cuda/cuda_blas.cc:1515] Unable to register cuBLAS factory: Attempting to register factory for plugin cuBLAS when one has already been registered\n",
      "\n",
      "\u001b[34m\u001b[1mTensorFlow SavedModel:\u001b[0m starting export with tensorflow 2.15.0...\n",
      "WARNING ⚠️ using Tensorflow 2.15.0 > 2.13.1 might cause issue when exporting the model to tflite https://github.com/ultralytics/yolov5/issues/12489\n",
      "\n",
      "                 from  n    params  module                                  arguments                     \n",
      "2024-01-22 17:50:33.291173: E external/local_xla/xla/stream_executor/cuda/cuda_driver.cc:274] failed call to cuInit: CUDA_ERROR_NO_DEVICE: no CUDA-capable device is detected\n",
      "  0                -1  1      3520  models.common.Conv                      [3, 32, 6, 2, 2]              \n",
      "  1                -1  1     18560  models.common.Conv                      [32, 64, 3, 2]                \n",
      "  2                -1  1     18816  models.common.C3                        [64, 64, 1]                   \n",
      "  3                -1  1     73984  models.common.Conv                      [64, 128, 3, 2]               \n",
      "  4                -1  1    115712  models.common.C3                        [128, 128, 2]                 \n",
      "  5                -1  1    295424  models.common.Conv                      [128, 256, 3, 2]              \n",
      "  6                -1  1    625152  models.common.C3                        [256, 256, 3]                 \n",
      "  7                -1  1   1180672  models.common.Conv                      [256, 512, 3, 2]              \n",
      "  8                -1  1   1182720  models.common.C3                        [512, 512, 1]                 \n",
      "  9                -1  1    656896  models.common.SPPF                      [512, 512, 5]                 \n",
      " 10                -1  1    131584  models.common.Conv                      [512, 256, 1, 1]              \n",
      " 11                -1  1         0  torch.nn.modules.upsampling.Upsample    [None, 2, 'nearest']          \n",
      " 12           [-1, 6]  1         0  models.common.Concat                    [1]                           \n",
      " 13                -1  1    361984  models.common.C3                        [512, 256, 1, False]          \n",
      " 14                -1  1     33024  models.common.Conv                      [256, 128, 1, 1]              \n",
      " 15                -1  1         0  torch.nn.modules.upsampling.Upsample    [None, 2, 'nearest']          \n",
      " 16           [-1, 4]  1         0  models.common.Concat                    [1]                           \n",
      " 17                -1  1     90880  models.common.C3                        [256, 128, 1, False]          \n",
      " 18                -1  1    147712  models.common.Conv                      [128, 128, 3, 2]              \n",
      " 19          [-1, 14]  1         0  models.common.Concat                    [1]                           \n",
      " 20                -1  1    296448  models.common.C3                        [256, 256, 1, False]          \n",
      " 21                -1  1    590336  models.common.Conv                      [256, 256, 3, 2]              \n",
      " 22          [-1, 10]  1         0  models.common.Concat                    [1]                           \n",
      " 23                -1  1   1182720  models.common.C3                        [512, 512, 1, False]          \n",
      " 24      [17, 20, 23]  1     16182  models.yolo.Detect                      [1, [[10, 13, 16, 30, 33, 23], [30, 61, 62, 45, 59, 119], [116, 90, 156, 198, 373, 326]], [128, 256, 512], [736, 736]]\n",
      "Model: \"model\"\n",
      "__________________________________________________________________________________________________\n",
      " Layer (type)                Output Shape                 Param #   Connected to                  \n",
      "==================================================================================================\n",
      " input_1 (InputLayer)        [(1, 736, 736, 3)]           0         []                            \n",
      "                                                                                                  \n",
      " tf_conv (TFConv)            (1, 368, 368, 32)            3488      ['input_1[0][0]']             \n",
      "                                                                                                  \n",
      " tf_conv_1 (TFConv)          (1, 184, 184, 64)            18496     ['tf_conv[0][0]']             \n",
      "                                                                                                  \n",
      " tfc3 (TFC3)                 (1, 184, 184, 64)            18624     ['tf_conv_1[0][0]']           \n",
      "                                                                                                  \n",
      " tf_conv_7 (TFConv)          (1, 92, 92, 128)             73856     ['tfc3[0][0]']                \n",
      "                                                                                                  \n",
      " tfc3_1 (TFC3)               (1, 92, 92, 128)             115200    ['tf_conv_7[0][0]']           \n",
      "                                                                                                  \n",
      " tf_conv_15 (TFConv)         (1, 46, 46, 256)             295168    ['tfc3_1[0][0]']              \n",
      "                                                                                                  \n",
      " tfc3_2 (TFC3)               (1, 46, 46, 256)             623872    ['tf_conv_15[0][0]']          \n",
      "                                                                                                  \n",
      " tf_conv_25 (TFConv)         (1, 23, 23, 512)             1180160   ['tfc3_2[0][0]']              \n",
      "                                                                                                  \n",
      " tfc3_3 (TFC3)               (1, 23, 23, 512)             1181184   ['tf_conv_25[0][0]']          \n",
      "                                                                                                  \n",
      " tfsppf (TFSPPF)             (1, 23, 23, 512)             656128    ['tfc3_3[0][0]']              \n",
      "                                                                                                  \n",
      " tf_conv_33 (TFConv)         (1, 23, 23, 256)             131328    ['tfsppf[0][0]']              \n",
      "                                                                                                  \n",
      " tf_upsample (TFUpsample)    (1, 46, 46, 256)             0         ['tf_conv_33[0][0]']          \n",
      "                                                                                                  \n",
      " tf_concat (TFConcat)        (1, 46, 46, 512)             0         ['tf_upsample[0][0]',         \n",
      "                                                                     'tfc3_2[0][0]']              \n",
      "                                                                                                  \n",
      " tfc3_4 (TFC3)               (1, 46, 46, 256)             361216    ['tf_concat[0][0]']           \n",
      "                                                                                                  \n",
      " tf_conv_39 (TFConv)         (1, 46, 46, 128)             32896     ['tfc3_4[0][0]']              \n",
      "                                                                                                  \n",
      " tf_upsample_1 (TFUpsample)  (1, 92, 92, 128)             0         ['tf_conv_39[0][0]']          \n",
      "                                                                                                  \n",
      " tf_concat_1 (TFConcat)      (1, 92, 92, 256)             0         ['tf_upsample_1[0][0]',       \n",
      "                                                                     'tfc3_1[0][0]']              \n",
      "                                                                                                  \n",
      " tfc3_5 (TFC3)               (1, 92, 92, 128)             90496     ['tf_concat_1[0][0]']         \n",
      "                                                                                                  \n",
      " tf_conv_45 (TFConv)         (1, 46, 46, 128)             147584    ['tfc3_5[0][0]']              \n",
      "                                                                                                  \n",
      " tf_concat_2 (TFConcat)      (1, 46, 46, 256)             0         ['tf_conv_45[0][0]',          \n",
      "                                                                     'tf_conv_39[0][0]']          \n",
      "                                                                                                  \n",
      " tfc3_6 (TFC3)               (1, 46, 46, 256)             295680    ['tf_concat_2[0][0]']         \n",
      "                                                                                                  \n",
      " tf_conv_51 (TFConv)         (1, 23, 23, 256)             590080    ['tfc3_6[0][0]']              \n",
      "                                                                                                  \n",
      " tf_concat_3 (TFConcat)      (1, 23, 23, 512)             0         ['tf_conv_51[0][0]',          \n",
      "                                                                     'tf_conv_33[0][0]']          \n",
      "                                                                                                  \n",
      " tfc3_7 (TFC3)               (1, 23, 23, 512)             1181184   ['tf_concat_3[0][0]']         \n",
      "                                                                                                  \n",
      " tf_detect (TFDetect)        ((1, 33327, 6),              16182     ['tfc3_5[0][0]',              \n",
      "                             )                                       'tfc3_6[0][0]',              \n",
      "                                                                     'tfc3_7[0][0]']              \n",
      "                                                                                                  \n",
      " tf.__operators__.getitem (  (1, 33327, 4)                0         ['tf_detect[0][0]']           \n",
      " SlicingOpLambda)                                                                                 \n",
      "                                                                                                  \n",
      " tf.split (TFOpLambda)       [(1, 33327, 1),              0         ['tf.__operators__.getitem[0][\n",
      "                              (1, 33327, 1),                        0]']                          \n",
      "                              (1, 33327, 1),                                                      \n",
      "                              (1, 33327, 1)]                                                      \n",
      "                                                                                                  \n",
      " tf.math.truediv (TFOpLambd  (1, 33327, 1)                0         ['tf.split[0][2]']            \n",
      " a)                                                                                               \n",
      "                                                                                                  \n",
      " tf.math.truediv_1 (TFOpLam  (1, 33327, 1)                0         ['tf.split[0][3]']            \n",
      " bda)                                                                                             \n",
      "                                                                                                  \n",
      " tf.math.truediv_2 (TFOpLam  (1, 33327, 1)                0         ['tf.split[0][2]']            \n",
      " bda)                                                                                             \n",
      "                                                                                                  \n",
      " tf.math.truediv_3 (TFOpLam  (1, 33327, 1)                0         ['tf.split[0][3]']            \n",
      " bda)                                                                                             \n",
      "                                                                                                  \n",
      " tf.math.subtract (TFOpLamb  (1, 33327, 1)                0         ['tf.split[0][0]',            \n",
      " da)                                                                 'tf.math.truediv[0][0]']     \n",
      "                                                                                                  \n",
      " tf.math.subtract_1 (TFOpLa  (1, 33327, 1)                0         ['tf.split[0][1]',            \n",
      " mbda)                                                               'tf.math.truediv_1[0][0]']   \n",
      "                                                                                                  \n",
      " tf.__operators__.add (TFOp  (1, 33327, 1)                0         ['tf.split[0][0]',            \n",
      " Lambda)                                                             'tf.math.truediv_2[0][0]']   \n",
      "                                                                                                  \n",
      " tf.__operators__.add_1 (TF  (1, 33327, 1)                0         ['tf.split[0][1]',            \n",
      " OpLambda)                                                           'tf.math.truediv_3[0][0]']   \n",
      "                                                                                                  \n",
      " tf.__operators__.getitem_2  (1, 33327, 1)                0         ['tf_detect[0][0]']           \n",
      "  (SlicingOpLambda)                                                                               \n",
      "                                                                                                  \n",
      " tf.__operators__.getitem_1  (1, 33327, 1)                0         ['tf_detect[0][0]']           \n",
      "  (SlicingOpLambda)                                                                               \n",
      "                                                                                                  \n",
      " tf.concat (TFOpLambda)      (1, 33327, 4)                0         ['tf.math.subtract[0][0]',    \n",
      "                                                                     'tf.math.subtract_1[0][0]',  \n",
      "                                                                     'tf.__operators__.add[0][0]',\n",
      "                                                                     'tf.__operators__.add_1[0][0]\n",
      "                                                                    ']                            \n",
      "                                                                                                  \n",
      " tf.math.multiply (TFOpLamb  (1, 33327, 1)                0         ['tf.__operators__.getitem_1[0\n",
      " da)                                                                ][0]',                        \n",
      "                                                                     'tf.__operators__.getitem_2[0\n",
      "                                                                    ][0]']                        \n",
      "                                                                                                  \n",
      " agnostic_nms_1 (AgnosticNM  ((1, None, 4),               0         ['tf.concat[0][0]',           \n",
      " S)                           (1, None),                             'tf.__operators__.getitem_2[0\n",
      "                              (1, None),                            ][0]',                        \n",
      "                              (1,))                                  'tf.math.multiply[0][0]']    \n",
      "                                                                                                  \n",
      "==================================================================================================\n",
      "Total params: 7012822 (26.75 MB)\n",
      "Trainable params: 0 (0.00 Byte)\n",
      "Non-trainable params: 7012822 (26.75 MB)\n",
      "__________________________________________________________________________________________________\n",
      "\u001b[34m\u001b[1mTensorFlow SavedModel:\u001b[0m export success ✅ 7.6s, saved as YOLOv5-Pill-Counter/test/train_50/weights/best_saved_model (27.1 MB)\n",
      "\n",
      "\u001b[34m\u001b[1mTensorFlow GraphDef:\u001b[0m starting export with tensorflow 2.15.0...\n",
      "\u001b[34m\u001b[1mTensorFlow GraphDef:\u001b[0m export success ✅ 1.7s, saved as YOLOv5-Pill-Counter/test/train_50/weights/best.pb (27.0 MB)\n",
      "\n",
      "\u001b[34m\u001b[1mTensorFlow.js:\u001b[0m starting export with tensorflowjs 4.16.0...\n",
      "2024-01-22 17:50:41.031960: E external/local_xla/xla/stream_executor/cuda/cuda_dnn.cc:9261] Unable to register cuDNN factory: Attempting to register factory for plugin cuDNN when one has already been registered\n",
      "2024-01-22 17:50:41.032062: E external/local_xla/xla/stream_executor/cuda/cuda_fft.cc:607] Unable to register cuFFT factory: Attempting to register factory for plugin cuFFT when one has already been registered\n",
      "2024-01-22 17:50:41.033040: E external/local_xla/xla/stream_executor/cuda/cuda_blas.cc:1515] Unable to register cuBLAS factory: Attempting to register factory for plugin cuBLAS when one has already been registered\n",
      "\u001b[34m\u001b[1mTensorFlow.js:\u001b[0m export success ✅ 4.4s, saved as YOLOv5-Pill-Counter/test/train_50/weights/best_web_model (27.1 MB)\n",
      "\n",
      "Export complete (14.3s)\n",
      "Results saved to \u001b[1m/home/czack913/Code/yolov5/YOLOv5-Pill-Counter/test/train_50/weights\u001b[0m\n",
      "Detect:          python detect.py --weights YOLOv5-Pill-Counter/test/train_50/weights/best_web_model \n",
      "Validate:        python val.py --weights YOLOv5-Pill-Counter/test/train_50/weights/best_web_model \n",
      "PyTorch Hub:     model = torch.hub.load('ultralytics/yolov5', 'custom', 'YOLOv5-Pill-Counter/test/train_50/weights/best_web_model')  \n",
      "Visualize:       https://netron.app\n"
     ]
    }
   ],
   "source": [
    "!python export.py \\\n",
    "--weights YOLOv5-Pill-Counter/test/train_50/weights/best.pt \\\n",
    "--include tfjs \\\n",
    "--imgsz 736"
   ]
  },
  {
   "cell_type": "markdown",
   "metadata": {},
   "source": [
    "Validate\n"
   ]
  },
  {
   "cell_type": "code",
   "execution_count": null,
   "metadata": {},
   "outputs": [],
   "source": [
    "!python val.py \\\n",
    "--weights runs/train/exp2/weights/best.pt \\\n",
    "--data yolo.yaml \\\n",
    "--img 736"
   ]
  },
  {
   "cell_type": "markdown",
   "metadata": {},
   "source": [
    "Detect\n"
   ]
  },
  {
   "cell_type": "code",
   "execution_count": null,
   "metadata": {},
   "outputs": [],
   "source": [
    "!python detect.py \\\n",
    "--weights runs/train/exp2/weights/best.pt \\\n",
    "--source yolo.yaml \\\n",
    "--img 736"
   ]
  }
 ],
 "metadata": {
  "kernelspec": {
   "display_name": ".venv",
   "language": "python",
   "name": "python3"
  },
  "language_info": {
   "codemirror_mode": {
    "name": "ipython",
    "version": 3
   },
   "file_extension": ".py",
   "mimetype": "text/x-python",
   "name": "python",
   "nbconvert_exporter": "python",
   "pygments_lexer": "ipython3",
   "version": "3.10.12"
  }
 },
 "nbformat": 4,
 "nbformat_minor": 2
}
