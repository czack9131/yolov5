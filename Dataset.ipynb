{
 "cells": [
  {
   "cell_type": "code",
   "execution_count": null,
   "metadata": {},
   "outputs": [],
   "source": [
    "from clearml import Dataset\n",
    "\n",
    "DATASET_ROOT = \"../datasets/yolo\"\n",
    "DATASET_ID = \"\"\n",
    "DATASET_PROJECT = \"YOLOv5-Pill-Counter\"\n",
    "DATASET_NAME = \"YOLOv5-Pill-Counter-DS\"\n",
    "\n",
    "# dataset = Dataset.get(\n",
    "#     # dataset_id=DATASET_ID,\n",
    "#     dataset_project=DATASET_PROJECT,\n",
    "#     dataset_name=DATASET_NAME,\n",
    "#     only_published=False,\n",
    "# )"
   ]
  },
  {
   "cell_type": "markdown",
   "metadata": {},
   "source": [
    "Clone Dataset"
   ]
  },
  {
   "cell_type": "code",
   "execution_count": null,
   "metadata": {},
   "outputs": [],
   "source": [
    "!clearml-data get \\\n",
    "--id 63c8e9373cd44d278ebfe693a575387f \\\n",
    "--copy ../datasets/yolo \\\n",
    "--overwrite"
   ]
  },
  {
   "cell_type": "markdown",
   "metadata": {},
   "source": [
    "Update Dataset"
   ]
  },
  {
   "cell_type": "code",
   "execution_count": 1,
   "metadata": {},
   "outputs": [
    {
     "name": "stdout",
     "output_type": "stream",
     "text": [
      "clearml-data - Dataset Management & Versioning CLI\n",
      "Creating a new dataset:\n",
      "ClearML results page: https://app.clear.ml/projects/233cbd08bafa4acd8f14f0bc7922e541/experiments/8428221d4dd747e795c53ea1211c4a52/output/log\n",
      "ClearML dataset page: https://app.clear.ml/datasets/simple/233cbd08bafa4acd8f14f0bc7922e541/experiments/8428221d4dd747e795c53ea1211c4a52\n",
      "New dataset created id=8428221d4dd747e795c53ea1211c4a52\n",
      "Syncing dataset id 8428221d4dd747e795c53ea1211c4a52 to local folder ../datasets/yolo\n",
      "Generating SHA2 hash for 862 files\n",
      "100%|███████████████████████████████████████| 862/862 [00:00<00:00, 1387.13it/s]\n",
      "Hash generation completed\n",
      "Sync completed: 0 files removed, 862 added, 0 modified\n",
      "Finalizing dataset\n",
      "Pending uploads, starting dataset upload to https://files.clear.ml\n",
      "Uploading dataset changes (862 files compressed to 206.44 MiB) to https://files.clear.ml\n",
      "^C\n",
      "\n",
      "User aborted\n"
     ]
    }
   ],
   "source": [
    "!clearml-data sync \\\n",
    "--project YOLOv5-Pill-Counter \\\n",
    "--name YOLOv5-Pill-Counter-DS \\\n",
    "--folder ../datasets/yolo"
   ]
  }
 ],
 "metadata": {
  "kernelspec": {
   "display_name": ".venv",
   "language": "python",
   "name": "python3"
  },
  "language_info": {
   "codemirror_mode": {
    "name": "ipython",
    "version": 3
   },
   "file_extension": ".py",
   "mimetype": "text/x-python",
   "name": "python",
   "nbconvert_exporter": "python",
   "pygments_lexer": "ipython3",
   "version": "3.10.12"
  }
 },
 "nbformat": 4,
 "nbformat_minor": 2
}
