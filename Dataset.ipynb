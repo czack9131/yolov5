{
 "cells": [
  {
   "cell_type": "code",
   "execution_count": null,
   "metadata": {},
   "outputs": [],
   "source": [
    "from clearml import Dataset\n",
    "\n",
    "DATASET_ROOT = \"../datasets/yolo\"\n",
    "DATASET_ID = \"\"\n",
    "DATASET_PROJECT = \"YOLOv5-Pill-Counter\"\n",
    "DATASET_NAME = \"YOLOv5-Pill-Counter-DS\"\n",
    "\n",
    "# dataset = Dataset.get(\n",
    "#     # dataset_id=DATASET_ID,\n",
    "#     dataset_project=DATASET_PROJECT,\n",
    "#     dataset_name=DATASET_NAME,\n",
    "#     only_published=False,\n",
    "# )"
   ]
  },
  {
   "cell_type": "markdown",
   "metadata": {},
   "source": [
    "Clone Dataset"
   ]
  },
  {
   "cell_type": "code",
   "execution_count": null,
   "metadata": {},
   "outputs": [],
   "source": [
    "!clearml-data get \\\n",
    "--id 63c8e9373cd44d278ebfe693a575387f \\\n",
    "--copy ../datasets/yolo \\\n",
    "--overwrite"
   ]
  },
  {
   "cell_type": "markdown",
   "metadata": {},
   "source": [
    "Update Dataset"
   ]
  },
  {
   "cell_type": "code",
   "execution_count": null,
   "metadata": {},
   "outputs": [],
   "source": [
    "!clearml-data sync \\\n",
    "--project YOLOv5-Pill-Counter \\\n",
    "--name YOLOv5-Pill-Counter-DS \\\n",
    "--folder ../datasets/yolo"
   ]
  }
 ],
 "metadata": {
  "kernelspec": {
   "display_name": ".venv",
   "language": "python",
   "name": "python3"
  },
  "language_info": {
   "codemirror_mode": {
    "name": "ipython",
    "version": 3
   },
   "file_extension": ".py",
   "mimetype": "text/x-python",
   "name": "python",
   "nbconvert_exporter": "python",
   "pygments_lexer": "ipython3",
   "version": "3.10.12"
  }
 },
 "nbformat": 4,
 "nbformat_minor": 2
}
